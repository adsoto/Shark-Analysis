{
  "nbformat": 4,
  "nbformat_minor": 0,
  "metadata": {
    "colab": {
      "provenance": []
    },
    "kernelspec": {
      "name": "python3",
      "display_name": "Python 3"
    },
    "language_info": {
      "name": "python"
    }
  },
  "cells": [
    {
      "cell_type": "markdown",
      "source": [
        "# Lab 3: Animal pursuit kinematics\n",
        "\n",
        "In this lab you will be working with real animal pursuit data collected from videos of experiments conducted by Prof. Alberto Soto and/or colleagues Matt McHenry,  Ashley Peterson, Jacob Johansen and James Liao. There are three data sets: zebrafish, bluefish, and lionfish. The data include the position of a predator and a prey through time and are denoted by the following variables: \n",
        "\n",
        "`t, xPred, yPred, xPrey, yPrey` \n",
        "\n",
        "The lionfish and zebrafish data also contain another variable `headPred` for the heading angle of the predator (in radians), which we will use as groundtruth values. "
      ],
      "metadata": {
        "id": "rggUGBHF9ibh"
      }
    },
    {
      "cell_type": "markdown",
      "source": [
        "## Lab 3 Tasks \n",
        "In this lab you will:\n",
        "  * Select 2 sequences from each data set (6 total sequences) \n",
        "  * Determine the frame rate and total duration of the sequence\n",
        "  * Plot the predator and prey trajectories on the same figure, use different colors and a legend to identify each animal's trajectory\n",
        "  * Compute and plot the following derived kinematic variables \n",
        "    * Speed of predator and prey, \n",
        "$u_{\\text{pred}}$ and $u_{\\text{prey}}$\n",
        "    * Heading of predator,\n",
        "$\\theta$\n",
        "    * Rotational velocity of predator, \n",
        "$\\dot \\theta$\n",
        "    * Distance between predator and prey,\n",
        "$d$\n",
        "    * Line-of-sight angle,\n",
        "$\\lambda$\n",
        "    * Deviation angle,\n",
        "$\\delta$\n",
        "    \n",
        "  * Qualitatively describe each sequence based on the kinematics\n",
        "    * Example: Bluefish sequence 3 is a long distance chase with one successful evasion maneuver quickly followed by a reorienting turn by the predator and then capture. \n"
      ],
      "metadata": {
        "id": "tbBgHYOVBri3"
      }
    },
    {
      "cell_type": "markdown",
      "source": [
        "## Lab 3 Assignment\n",
        "\n",
        "You will turn in a PDF of this comeplete notebook on Gradescope, it should contain all of the items described above (see the solution for generating a nicely formatted PDF at the bottom of this notebook). Your Google Colab file should reside within the google drive folder that I created and shared with you individually. "
      ],
      "metadata": {
        "id": "qUFolWVEdmXj"
      }
    },
    {
      "cell_type": "markdown",
      "source": [
        "## Notes and Tips\n",
        "You can use any methods you choose to accomplish the lab tasks. Most calculations can be done with NumPy methods. Pandas is a great library to use for loading data and storing derived variables. Plotly creates very nice visualizations and is designed to work with dataframes.  \n",
        "\n",
        "Angles should be computed in radians, but plotted in degrees. To convert an angle from radians to degrees multiply by $\\frac{180}{\\pi}$.\n",
        "\n",
        "**Help each other out, talk to your peers. Check in with other groups. I know ya'll like to stay in your chosen seats, but take this opportunity to share ideas with others.** \n",
        "\n",
        "### Zebrafish\n",
        "The data come from lab experiments with zebrafish (*Danio rerio*). The pursuit trials were conducted in shallow petri dishes or small circular fish tanks and recorded with a high-speed video camera. \n",
        "\n",
        "These fish move intermittently, in a burst-and-coast style. You'll see this most clearly in the speed and heading for the predator. In general, the prey only move when the the predator is very close. This means that the prey speed could be zero for portions of the sequence. \n",
        "\n",
        "The position data may be in units of `cm`, it's fine to plot in these units or you can convert to `m`. \n",
        "\n",
        "\n",
        "---\n",
        "\n",
        "\n",
        "### Bluefish\n",
        "An interdisciplinary team of researchers from UC Irvine, University of Florida, and University of Maryland recorded and analyzed video of bluefish (*Pomatomus saltatrix*) as they pursued mummichog (*Fundulus heteroclitus*). These experiments were performed in a cylindrical (ø = 6.5 m, depth = 0.8 m) outdoor tank.\n",
        "\n",
        "The data was collected manually by clicking on the position of the prey and predator for each video frame. So the raw data will inherently be noisy.\n",
        "You can apply the Savitzky–Golay filter to smooth the data, but take care not to *over* smooth. See the example below for how to apply the smoothing algorithm. \n",
        "\n",
        "Position data are given in pixels, use the following conversion factor to convert to meters before computing other variables: \n",
        "\n",
        "`unit_conversion = 0.25/73.8588  # meters/pixels` \n",
        "\n",
        "**Please read:** Most of the bluefish sequences contain `NaN` values for the predator and/or prey. Which you will want to drop for easier processing. If you import the bluefish data into a pandas dataframe you can drop the `NaN` values with:\n",
        "\n",
        "```\n",
        "df_blue = pd.read_csv(\"/bluefish_seq_1.csv\")\n",
        "df_blue = df_blue.dropna()\n",
        "df_blue.reset_index(drop=True)\n",
        "```\n",
        "\n",
        "---\n",
        "\n",
        "\n",
        "### Lionfish\n",
        "These are long interactions with slow moving red lionfish (*Pterois volitans*) hunting green chromis (*Chromis viridis*). The experiments were conducted inside a shallow 4-foot diameter tank. I am not certain that the predator is always following the prey, therefore some of the angles ($\\lambda$ and $\\delta$, in particular) may look very different than the other datasets.  \n",
        "\n",
        "I do not know what units these data are in, but my best guess is that they are in meters, `m`."
      ],
      "metadata": {
        "id": "WYawlEHFCSCj"
      }
    },
    {
      "cell_type": "markdown",
      "source": [
        "## Importing the data\n",
        "First, download your sequences. \n",
        "\n",
        "Upload to session storage by clicking on the folder icon on the left of this notebook (brings up the Files menu) and click on the leftmost icon (page with up arrow), see figure below for reference. \n",
        "\n",
        "To create a Pandas DataFrame from a CSV file we can use:\n",
        "\n",
        "`df_1 = pd.read_csv(\"/zf_seq_1.csv\")` \n",
        "\n",
        "Note that the path may be different, depending on which session folder the data were uploaded to, but you can find the file's pathname by left-clicking on the file name in the Files menu and copying the path. "
      ],
      "metadata": {
        "id": "EV-YcHPX2VAn"
      }
    },
    {
      "cell_type": "markdown",
      "source": [
        "### Files menu\n",
        "![File-Colab.png](data:image/png;base64,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)"
      ],
      "metadata": {
        "id": "loNIDN6E6k2B"
      }
    },
    {
      "cell_type": "markdown",
      "source": [
        "# Calculations and Plots of Animal Pursuit"
      ],
      "metadata": {
        "id": "hMMePKtYkxPq"
      }
    },
    {
      "cell_type": "markdown",
      "source": [
        "## Load the Dependencies"
      ],
      "metadata": {
        "id": "Bc8fGFZX8kuI"
      }
    },
    {
      "cell_type": "code",
      "execution_count": null,
      "metadata": {
        "id": "FPny8N168adN"
      },
      "outputs": [],
      "source": [
        "import scipy.io\n",
        "import numpy as np\n",
        "from matplotlib import pyplot as plt\n",
        "import pandas as pd\n",
        "\n",
        "%matplotlib inline\n",
        "\n",
        "# Scipy signal for smoothing noisy data\n",
        "from scipy import signal\n",
        "\n",
        "# Plotly for interactive plots\n",
        "import plotly.express as px\n",
        "from plotly.subplots import make_subplots\n",
        "import plotly.graph_objects as go"
      ]
    },
    {
      "cell_type": "markdown",
      "source": [
        "## Zebrafish sequences"
      ],
      "metadata": {
        "id": "Wd5L2yOo8j6y"
      }
    },
    {
      "cell_type": "markdown",
      "source": [
        "## Bluefish sequences"
      ],
      "metadata": {
        "id": "n4DkFRQF8n6C"
      }
    },
    {
      "cell_type": "markdown",
      "source": [
        "## Lionfish sequences"
      ],
      "metadata": {
        "id": "vo49FV0-8r-1"
      }
    },
    {
      "cell_type": "markdown",
      "source": [
        "# Plotting with Plotly, Data Smoothing, and PDF Conversion"
      ],
      "metadata": {
        "id": "COKpe_5WkT2A"
      }
    },
    {
      "cell_type": "markdown",
      "source": [
        "## Plotly Express plotting example"
      ],
      "metadata": {
        "id": "MfFASqcP99NR"
      }
    },
    {
      "cell_type": "code",
      "source": [
        "# Read data\n",
        "zf_1 = pd.read_csv(\"/zf_seq_1.csv\")\n",
        "\n",
        "# Plot predator heading (headPred) vs. time (t)\n",
        "fig_1 = px.scatter(zf_1, x=\"t\", y=\"headPred\", \n",
        "                      title=\"Zebrafish Seq1, Predator Heading\")\n",
        "fig_1.show()"
      ],
      "metadata": {
        "id": "wa1wmxZP-Enj"
      },
      "execution_count": null,
      "outputs": []
    },
    {
      "cell_type": "markdown",
      "source": [
        "## Savitzky-Golay Filter example\n",
        "The following example is from a [Plotly tutorial on smoothing](https://plotly.com/python/smoothing/) \n",
        "\n",
        "It's also a nice example of how to use [Plotly Graph Objects](https://plotly.com/python/graph-objects/) to make figures, which is more involved than using Plotly Express, but provides more functionality. \n",
        "\n",
        "Given some noisy data `y`, we generate the filtered data with\n",
        "`y_hat = signal.savgol_filter(y, win_size, order)`,\n",
        "where `win_size` is the window size used for filtering and `order` is the polynomial order used to fit subsets of the data. Low-order polynomials are most commonly used.  "
      ],
      "metadata": {
        "id": "86hZU3HqhRB7"
      }
    },
    {
      "cell_type": "code",
      "source": [
        "np.random.seed(1)\n",
        "\n",
        "x = np.linspace(0, 10, 100)\n",
        "y = np.sin(x)\n",
        "noise = 2 * np.random.random(len(x)) - 1 # uniformly distributed between -1 and 1\n",
        "y_noise = y + noise\n",
        "\n",
        "fig = go.Figure()\n",
        "fig.add_trace(go.Scatter(\n",
        "    x=x,\n",
        "    y=y,\n",
        "    mode='markers',\n",
        "    marker=dict(size=2, color='black'),\n",
        "    name='Sine'\n",
        "))\n",
        "\n",
        "fig.add_trace(go.Scatter(\n",
        "    x=x,\n",
        "    y=y_noise,\n",
        "    mode='markers',\n",
        "    marker=dict(\n",
        "        size=6,\n",
        "        color='royalblue',\n",
        "        symbol='circle-open'\n",
        "    ),\n",
        "    name='Noisy Sine'\n",
        "))\n",
        "\n",
        "fig.add_trace(go.Scatter(\n",
        "    x=x,\n",
        "    y=signal.savgol_filter(y,\n",
        "                           53, # window size used for filtering\n",
        "                           3), # order of fitted polynomial\n",
        "    mode='markers',\n",
        "    marker=dict(\n",
        "        size=6,\n",
        "        color='mediumpurple',\n",
        "        symbol='triangle-up'\n",
        "    ),\n",
        "    name='Savitzky-Golay'\n",
        "))\n",
        "\n",
        "\n",
        "fig.show()"
      ],
      "metadata": {
        "id": "dup4fqrfhQkp"
      },
      "execution_count": null,
      "outputs": []
    },
    {
      "cell_type": "markdown",
      "source": [
        "## Method to convert notebook to nicely formatted PDF\n",
        "\n",
        "\n",
        "1.   Download your Google Colab Notebook as `.ipynb`\n",
        "2.   Upload the file to session storage using the Files menu\n",
        "3.   Copy the file path and paste into the line of code below\n",
        "4.   An html file will be generated and will show up in the Files menu\n",
        "5.   Download the HTML file, then open and save as a PDF\n",
        "\n",
        "I found this solution [on YouTube](https://youtu.be/-Ti9Mm21uVc)\n",
        "\n"
      ],
      "metadata": {
        "id": "LvWm8ZPbg7Dq"
      }
    },
    {
      "cell_type": "code",
      "source": [
        "# Command to convert .ipynb to HTML\n",
        "!jupyter nbconvert --to html /content/lab_3_E190BE_cp.ipynb"
      ],
      "metadata": {
        "colab": {
          "base_uri": "https://localhost:8080/"
        },
        "id": "lXlp0Ri6hBMg",
        "outputId": "b47c76ac-bf79-4a55-b60b-bf35b4839d2f"
      },
      "execution_count": null,
      "outputs": [
        {
          "output_type": "stream",
          "name": "stdout",
          "text": [
            "[NbConvertApp] Converting notebook /content/lab_3_E190BE_cp.ipynb to html\n",
            "[NbConvertApp] Writing 340944 bytes to /content/lab_3_E190BE_cp.html\n"
          ]
        }
      ]
    },
    {
      "cell_type": "code",
      "source": [],
      "metadata": {
        "id": "gg8q07xbiZJ5"
      },
      "execution_count": null,
      "outputs": []
    }
  ]
}