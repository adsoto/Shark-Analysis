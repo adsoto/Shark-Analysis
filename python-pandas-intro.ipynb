{
  "nbformat": 4,
  "nbformat_minor": 0,
  "metadata": {
    "colab": {
      "provenance": [],
      "toc_visible": true
    },
    "kernelspec": {
      "name": "python3",
      "display_name": "Python 3"
    },
    "language_info": {
      "name": "python"
    }
  },
  "cells": [
    {
      "cell_type": "markdown",
      "metadata": {
        "id": "CcHQbiIKlDoa"
      },
      "source": [
        "# Hello, World!\n",
        "Print statements in Python"
      ]
    },
    {
      "cell_type": "code",
      "metadata": {
        "colab": {
          "base_uri": "https://localhost:8080/"
        },
        "id": "5XpDdW_WjmAF",
        "outputId": "16236a0a-31f2-41c9-8007-e9c3bcd11b68"
      },
      "source": [
        "# Many ways of printing the same text.\n",
        "\n",
        "# Version 1: Write the text in quotes within the print() method: \n",
        "print(\"Hello, World!\")"
      ],
      "execution_count": null,
      "outputs": [
        {
          "output_type": "stream",
          "text": [
            "Hello, World!\n"
          ],
          "name": "stdout"
        }
      ]
    },
    {
      "cell_type": "code",
      "metadata": {
        "colab": {
          "base_uri": "https://localhost:8080/"
        },
        "id": "T-Vz589BoS0O",
        "outputId": "6654b6a5-f645-4f01-b00b-e4e44c3c62ac"
      },
      "source": [
        "# Version 2: Save the text as a variable, then use print()\n",
        "text_1 = \"Hello, World!\"\n",
        "print(text_1)\n",
        "\n",
        "# Note: the variable text_1 is a string (str), verify with the type() method\n",
        "type(text_1)"
      ],
      "execution_count": null,
      "outputs": [
        {
          "output_type": "stream",
          "text": [
            "Hello, World!\n"
          ],
          "name": "stdout"
        },
        {
          "output_type": "execute_result",
          "data": {
            "text/plain": [
              "str"
            ]
          },
          "metadata": {
            "tags": []
          },
          "execution_count": 2
        }
      ]
    },
    {
      "cell_type": "code",
      "metadata": {
        "colab": {
          "base_uri": "https://localhost:8080/"
        },
        "id": "qqMVlCFpom42",
        "outputId": "20a522a6-52ae-4ed1-bbad-d394dffce1b6"
      },
      "source": [
        "# We can combine two or more strings in the same print statement with +\n",
        "\n",
        "str1 = \"String 1 is followed by: \"\n",
        "str2 = \"String 2.\"\n",
        "print(str1 + str2)"
      ],
      "execution_count": null,
      "outputs": [
        {
          "output_type": "stream",
          "text": [
            "String 1 is followed by: String 2.\n"
          ],
          "name": "stdout"
        }
      ]
    },
    {
      "cell_type": "code",
      "metadata": {
        "colab": {
          "base_uri": "https://localhost:8080/"
        },
        "id": "LLi_1CnKqcZ2",
        "outputId": "0350565a-61a7-41d9-a958-9c1c97fa2e5b"
      },
      "source": [
        "# Strings and numerical values can be combined into a print statement with a comma.\n",
        "\n",
        "piString = 'The value of Pi is approxinmately:'\n",
        "x = 3.14\n",
        "print(piString, x)"
      ],
      "execution_count": null,
      "outputs": [
        {
          "output_type": "stream",
          "text": [
            "The value of Pi is approxinmately: 3.14\n"
          ],
          "name": "stdout"
        }
      ]
    },
    {
      "cell_type": "markdown",
      "metadata": {
        "id": "rN8Fgc5Flziw"
      },
      "source": [
        "## Activity 1.1\n",
        "\n",
        "### Write the code to print your name along with your favorite number. Your name and favorite number should be stored as variables.\n",
        "\n",
        "Example Output: My name is Alberto Soto and my favorite number is 21."
      ]
    },
    {
      "cell_type": "code",
      "metadata": {
        "id": "3CXNLzT-zVjY"
      },
      "source": [
        "# 1.1 \n",
        "# Write your code in this cell block"
      ],
      "execution_count": null,
      "outputs": []
    },
    {
      "cell_type": "code",
      "metadata": {
        "colab": {
          "base_uri": "https://localhost:8080/"
        },
        "id": "C1-xHiZTRMhl",
        "outputId": "89ed6036-885d-423c-c64c-1b31fae81fb6"
      },
      "source": [
        "name = \"sergio\"\n",
        "n = \"7\"\n",
        "n2 = 7\n",
        "y = name + n\n",
        "\n",
        "print(name, n2)\n",
        "type(n2)"
      ],
      "execution_count": null,
      "outputs": [
        {
          "output_type": "stream",
          "text": [
            "sergio 7\n"
          ],
          "name": "stdout"
        },
        {
          "output_type": "execute_result",
          "data": {
            "text/plain": [
              "int"
            ]
          },
          "metadata": {
            "tags": []
          },
          "execution_count": 10
        }
      ]
    },
    {
      "cell_type": "markdown",
      "metadata": {
        "id": "q1D78rbktyeh"
      },
      "source": [
        "# Making Lists (of numbers)\n",
        "In this section we'll generate a list of numerical values using two different methods. "
      ]
    },
    {
      "cell_type": "markdown",
      "metadata": {
        "id": "WFOIAjPZzMuO"
      },
      "source": [
        "## Method 1: for-loop"
      ]
    },
    {
      "cell_type": "code",
      "metadata": {
        "colab": {
          "base_uri": "https://localhost:8080/"
        },
        "id": "DyOvNatawGTF",
        "outputId": "4716e57f-b8f6-47f9-999f-48770d82386e"
      },
      "source": [
        "# Goal: Use a for loop structure to generate a list of numbers from 0 to 20\n",
        "\n",
        "# Initialize an empty list with []\n",
        "list1 = []\n",
        "\n",
        "# Add numbers to list1 using the append() method\n",
        "for number in range(21):   \n",
        "  list1.append(number)\n",
        "\n",
        "# Note: range(N) produces a sequence of integers up to, but not including N\n",
        "\n",
        "# Print the list, here we don't need to call the print() method\n",
        "list1\n"
      ],
      "execution_count": null,
      "outputs": [
        {
          "output_type": "execute_result",
          "data": {
            "text/plain": [
              "[0, 1, 2, 3, 4, 5, 6, 7, 8, 9, 10, 11, 12, 13, 14, 15, 16, 17, 18, 19, 20]"
            ]
          },
          "metadata": {
            "tags": []
          },
          "execution_count": 13
        }
      ]
    },
    {
      "cell_type": "markdown",
      "metadata": {
        "id": "JHYByKoyEl79"
      },
      "source": [
        "### Indexing"
      ]
    },
    {
      "cell_type": "code",
      "metadata": {
        "colab": {
          "base_uri": "https://localhost:8080/"
        },
        "id": "K2V2Z77CDgqT",
        "outputId": "b0713a98-aaad-4340-cc0e-8f1540287654"
      },
      "source": [
        "# Use indexing to show the first 5 elements of the list\n",
        "list1[0:5]"
      ],
      "execution_count": null,
      "outputs": [
        {
          "output_type": "execute_result",
          "data": {
            "text/plain": [
              "[0, 1, 2, 3, 4]"
            ]
          },
          "metadata": {
            "tags": []
          },
          "execution_count": 14
        }
      ]
    },
    {
      "cell_type": "code",
      "metadata": {
        "colab": {
          "base_uri": "https://localhost:8080/"
        },
        "id": "WaBpsoGWDtTr",
        "outputId": "76bd9315-d4f9-4518-9fa7-4bd7bd6b04d8"
      },
      "source": [
        "# Use indexing to show every other element of the list\n",
        "list1[0:21:2]"
      ],
      "execution_count": null,
      "outputs": [
        {
          "output_type": "execute_result",
          "data": {
            "text/plain": [
              "[0, 2, 4, 6, 8, 10, 12, 14, 16, 18, 20]"
            ]
          },
          "metadata": {
            "tags": []
          },
          "execution_count": 15
        }
      ]
    },
    {
      "cell_type": "markdown",
      "metadata": {
        "id": "2BDBLs_XEAzW"
      },
      "source": [
        "The format for indexing is: \n",
        "```list_name[start:end:increment]```"
      ]
    },
    {
      "cell_type": "code",
      "metadata": {
        "colab": {
          "base_uri": "https://localhost:8080/"
        },
        "id": "jx5guEXwEOaw",
        "outputId": "8b340906-0aee-4bd1-a42d-4a528277b9e1"
      },
      "source": [
        "# We can also go backwards by setting the increment to -1, while leaving start/end blank\n",
        "list1[::-1]"
      ],
      "execution_count": null,
      "outputs": [
        {
          "output_type": "execute_result",
          "data": {
            "text/plain": [
              "[20, 19, 18, 17, 16, 15, 14, 13, 12, 11, 10, 9, 8, 7, 6, 5, 4, 3, 2, 1, 0]"
            ]
          },
          "metadata": {
            "tags": []
          },
          "execution_count": 16
        }
      ]
    },
    {
      "cell_type": "markdown",
      "metadata": {
        "id": "ga6_BgFE5ii3"
      },
      "source": [
        "### Activity 2.1\n",
        "\n",
        "### Use a for loop to generate a list of the first ten perfect squares\n",
        "\n",
        "Hint: use ```*``` to multiple two numerical values as in: \n",
        "      ``` 3 * 7 = 21```\n",
        "\n"
      ]
    },
    {
      "cell_type": "code",
      "metadata": {
        "colab": {
          "base_uri": "https://localhost:8080/"
        },
        "id": "ZnJL9eFj6H3_",
        "outputId": "e24e4675-fe28-491a-ca16-8afbf30e58c8"
      },
      "source": [
        "# 2.1 \n",
        "# Write code in this cell\n",
        "\n",
        "squares1 = []\n",
        "\n",
        "# Add values to list using the append() method\n",
        "for number in range(10): \n",
        "  # value = number * number\n",
        "  squares1.append(number * number)\n",
        "print(squares1)"
      ],
      "execution_count": null,
      "outputs": [
        {
          "output_type": "stream",
          "text": [
            "[0, 1, 4, 9, 16, 25, 36, 49, 64, 81]\n"
          ],
          "name": "stdout"
        }
      ]
    },
    {
      "cell_type": "markdown",
      "metadata": {
        "id": "BfU2D-SMzPbf"
      },
      "source": [
        "## Method 2: list comprehension \n",
        "\n",
        "**for loops** are fine for this task, but Python also has a powerful and elegant method to generate lists called **list comprehensions**"
      ]
    },
    {
      "cell_type": "code",
      "metadata": {
        "colab": {
          "base_uri": "https://localhost:8080/"
        },
        "id": "CdFNHIMRlpvh",
        "outputId": "3aaf6f2d-c186-41e4-c585-6c4d87f63bab"
      },
      "source": [
        "# A single line of code does the same thing as Method 1 using list comprehension\n",
        "list2 = [number for number in range(1, 21)]\n",
        "\n",
        "# I used range(0, 21) instead of range(21), they do exactly the same thing\n",
        "\n",
        "# Print the list\n",
        "list2"
      ],
      "execution_count": null,
      "outputs": [
        {
          "output_type": "execute_result",
          "data": {
            "text/plain": [
              "[1, 2, 3, 4, 5, 6, 7, 8, 9, 10, 11, 12, 13, 14, 15, 16, 17, 18, 19, 20]"
            ]
          },
          "metadata": {
            "tags": []
          },
          "execution_count": 23
        }
      ]
    },
    {
      "cell_type": "markdown",
      "metadata": {
        "id": "WPbBNkfw39aN"
      },
      "source": [
        "### Activity 2.2\n",
        "\n",
        "### Use list comprehensions to generate a list of the first ten perfect squares"
      ]
    },
    {
      "cell_type": "code",
      "metadata": {
        "colab": {
          "base_uri": "https://localhost:8080/"
        },
        "id": "u4asu9p06Plm",
        "outputId": "058e1a46-7484-4583-85b4-9a9fe5267aef"
      },
      "source": [
        "# 2.2\n",
        "# Write code in this cell\n",
        "\n",
        "squares2 = [number*number for number in range(0, 10)]\n",
        "\n",
        "squares2"
      ],
      "execution_count": null,
      "outputs": [
        {
          "output_type": "execute_result",
          "data": {
            "text/plain": [
              "[0, 1, 4, 9, 16, 25, 36, 49, 64, 81]"
            ]
          },
          "metadata": {
            "tags": []
          },
          "execution_count": 25
        }
      ]
    },
    {
      "cell_type": "markdown",
      "metadata": {
        "id": "Gn4DUVZzvoZF"
      },
      "source": [
        "#Conditional Statements\n",
        "In this section we'll use conditional (if/else) statements.\n",
        "\n",
        "A conditional statement has the form\n",
        "\n",
        "\n",
        "```\n",
        "if conditional:\n",
        "  code block 1\n",
        "else:\n",
        "  code block 2\n",
        "```\n",
        "where ```conditional``` is a test that returns a boolean value, either ```True``` or ```False```\n"
      ]
    },
    {
      "cell_type": "markdown",
      "metadata": {
        "id": "Rqa3GAxOFcBR"
      },
      "source": [
        "## if Statement Example"
      ]
    },
    {
      "cell_type": "code",
      "metadata": {
        "colab": {
          "base_uri": "https://localhost:8080/"
        },
        "id": "I3ODljQBEgFb",
        "outputId": "5fce255a-b4b3-48a3-f04e-196f677cfaf4"
      },
      "source": [
        "a = 1\n",
        "b = 2\n",
        "\n",
        "if a < b:\n",
        "  print(a, \"is bigger than\", b)"
      ],
      "execution_count": null,
      "outputs": [
        {
          "output_type": "stream",
          "text": [
            "1 is bigger than 2\n"
          ],
          "name": "stdout"
        }
      ]
    },
    {
      "cell_type": "markdown",
      "metadata": {
        "id": "DaN4Yl29J1Bl"
      },
      "source": [
        "## if/else Statement Example"
      ]
    },
    {
      "cell_type": "code",
      "metadata": {
        "colab": {
          "base_uri": "https://localhost:8080/"
        },
        "id": "f1why6KYGWFN",
        "outputId": "7ba8283d-27dc-4b4f-c1d4-e9dfcaa6c64b"
      },
      "source": [
        "x = 3**2\n",
        "y = 2**3\n",
        "\n",
        "if x < y:\n",
        "  print(\"What does ** do?\")\n",
        "else:\n",
        "  print(x, 'is greater than', y)"
      ],
      "execution_count": null,
      "outputs": [
        {
          "output_type": "stream",
          "text": [
            "9 is greater than 8\n"
          ],
          "name": "stdout"
        }
      ]
    },
    {
      "cell_type": "markdown",
      "metadata": {
        "id": "1D8D_TAxLbZk"
      },
      "source": [
        "## if/else inside a for loop Example"
      ]
    },
    {
      "cell_type": "code",
      "metadata": {
        "colab": {
          "base_uri": "https://localhost:8080/"
        },
        "id": "VbWpKbGgHblr",
        "outputId": "fdb405ea-ad80-4ebb-dde1-e0d39ac6964d"
      },
      "source": [
        "# Create a list of integers from -10 to 10\n",
        "intList = [x for x in range(-10, 11)]\n",
        "\n",
        "# Use a for loop to go through each element in the list\n",
        "# and print only the even numbers \n",
        "\n",
        "for elem in intList:\n",
        "  if elem % 2 == 0:         # checks if the element is even\n",
        "    print(elem, 'is even')\n",
        "  else:\n",
        "    print()                 # prints an empty line"
      ],
      "execution_count": null,
      "outputs": [
        {
          "output_type": "stream",
          "text": [
            "-10 is even\n",
            "\n",
            "-8 is even\n",
            "\n",
            "-6 is even\n",
            "\n",
            "-4 is even\n",
            "\n",
            "-2 is even\n",
            "\n",
            "0 is even\n",
            "\n",
            "2 is even\n",
            "\n",
            "4 is even\n",
            "\n",
            "6 is even\n",
            "\n",
            "8 is even\n",
            "\n",
            "10 is even\n"
          ],
          "name": "stdout"
        }
      ]
    },
    {
      "cell_type": "markdown",
      "metadata": {
        "id": "G64AtszGQOWj"
      },
      "source": [
        "### Activity 3.1\n",
        "\n",
        "### Use an if/else for-loop combo to print **positive** numbers from a list"
      ]
    },
    {
      "cell_type": "code",
      "metadata": {
        "id": "XnKOsnUmMDhj"
      },
      "source": [
        "# Here's the list, same as above\n",
        "intList "
      ],
      "execution_count": null,
      "outputs": []
    },
    {
      "cell_type": "code",
      "metadata": {
        "colab": {
          "base_uri": "https://localhost:8080/"
        },
        "id": "w-7B0hfwRYL1",
        "outputId": "845e0a33-fc1c-408f-967e-86fbb4a31d2a"
      },
      "source": [
        "# 3.1\n",
        "# Write code in this cell\n",
        "\n",
        "# Hint: For what values of x does the conditional statement x < 0 return True? \n",
        "\n",
        "for elem in intList:\n",
        "  if elem > 0:         # checks if the element is positive\n",
        "    print(elem, 'is positive')\n"
      ],
      "execution_count": null,
      "outputs": [
        {
          "output_type": "stream",
          "text": [
            "1 is positive\n",
            "2 is positive\n",
            "3 is positive\n",
            "4 is positive\n",
            "5 is positive\n",
            "6 is positive\n",
            "7 is positive\n",
            "8 is positive\n",
            "9 is positive\n",
            "10 is positive\n"
          ],
          "name": "stdout"
        }
      ]
    },
    {
      "cell_type": "markdown",
      "metadata": {
        "id": "OF4z5vdGThRb"
      },
      "source": [
        "### Activity 3.2\n",
        "\n",
        "### Use an if/else for loop combo to append the even numbers to an empty list"
      ]
    },
    {
      "cell_type": "code",
      "metadata": {
        "colab": {
          "base_uri": "https://localhost:8080/"
        },
        "id": "B3C2cnfjTuUZ",
        "outputId": "1d6455a5-9fe4-44b3-e1b0-95dbc50dd2ac"
      },
      "source": [
        "# 3.2\n",
        "# Write code in this cell\n",
        "\n",
        "# Initialize an empty list\n",
        "intList_evens = []\n",
        "\n",
        "for elem in intList:\n",
        "  if elem % 2 == 0:         # checks if the element is even\n",
        "    intList_evens.append(elem)\n",
        "\n",
        "print(intList_evens)"
      ],
      "execution_count": null,
      "outputs": [
        {
          "output_type": "stream",
          "text": [
            "[-10, -8, -6, -4, -2, 0, 2, 4, 6, 8, 10]\n"
          ],
          "name": "stdout"
        }
      ]
    },
    {
      "cell_type": "markdown",
      "metadata": {
        "id": "3iJnZGCMSSgS"
      },
      "source": [
        "### Here's the list comprehension version of extracting even numbers from a list"
      ]
    },
    {
      "cell_type": "code",
      "metadata": {
        "colab": {
          "base_uri": "https://localhost:8080/"
        },
        "id": "7IAgmrYaSQgl",
        "outputId": "d5ad1be0-9345-461b-a20b-082e7cca6b17"
      },
      "source": [
        "# List comprehension with a conditional statement \n",
        "intList_evens_lc = [elem for elem in intList if elem % 2 == 0]\n",
        "\n",
        "intList_evens_lc"
      ],
      "execution_count": null,
      "outputs": [
        {
          "output_type": "execute_result",
          "data": {
            "text/plain": [
              "[-10, -8, -6, -4, -2, 0, 2, 4, 6, 8, 10]"
            ]
          },
          "metadata": {
            "tags": []
          },
          "execution_count": 37
        }
      ]
    },
    {
      "cell_type": "code",
      "metadata": {
        "id": "drGGOUNFTREM"
      },
      "source": [
        "ls"
      ],
      "execution_count": null,
      "outputs": []
    },
    {
      "cell_type": "markdown",
      "metadata": {
        "id": "dJHsdNDg4jtP"
      },
      "source": [
        "# Pandas library"
      ]
    },
    {
      "cell_type": "code",
      "metadata": {
        "id": "posCFIET5F93"
      },
      "source": [
        "# The pandas library is a great tool for working with tabular data in Python\n",
        "\n",
        "# import the pandas library under the shorthand name \"pd\"\n",
        "import pandas as pd"
      ],
      "execution_count": null,
      "outputs": []
    },
    {
      "cell_type": "markdown",
      "metadata": {
        "id": "60UU9LGp5DM6"
      },
      "source": [
        "## White Shark Data Exploration\n",
        "\n",
        "### In this section we'll:\n",
        "\n",
        "1.   import a CSV data file\n",
        "2.   explore some functionality of the pandas DataFrame\n",
        "3.   plot data in several ways\n",
        "\n"
      ]
    },
    {
      "cell_type": "markdown",
      "metadata": {
        "id": "Fc7s063n7ESa"
      },
      "source": [
        "### import data to DataFrame"
      ]
    },
    {
      "cell_type": "code",
      "metadata": {
        "id": "hMlacExem0E9"
      },
      "source": [
        "# set the url\n",
        "url = 'https://github.com/adsoto/Shark-Analysis/raw/main/jws-sample-data.csv'\n",
        "\n",
        "# read the the csv file\n",
        "jws = pd.read_csv(url) \n",
        "\n",
        "# jws is the variable that holds the imported data as a DataFrame"
      ],
      "execution_count": null,
      "outputs": []
    },
    {
      "cell_type": "markdown",
      "metadata": {
        "id": "qvGwgk548NMT"
      },
      "source": [
        "### Activity 4.1\n",
        "\n",
        "### Check that ```jws``` is the correct type\n",
        "\n",
        "Hint: use a single command"
      ]
    },
    {
      "cell_type": "code",
      "metadata": {
        "colab": {
          "base_uri": "https://localhost:8080/"
        },
        "id": "3cCSpy3V8vnq",
        "outputId": "7a967ad2-1db7-4d26-9231-2f4f20eda6b1"
      },
      "source": [
        "# 4.1\n",
        "# Write the code here \n",
        "type(jws)"
      ],
      "execution_count": null,
      "outputs": [
        {
          "output_type": "execute_result",
          "data": {
            "text/plain": [
              "pandas.core.frame.DataFrame"
            ]
          },
          "metadata": {
            "tags": []
          },
          "execution_count": 40
        }
      ]
    },
    {
      "cell_type": "markdown",
      "metadata": {
        "id": "q13fQ-LN_5Nf"
      },
      "source": [
        "### View a selection of the data"
      ]
    },
    {
      "cell_type": "code",
      "metadata": {
        "colab": {
          "base_uri": "https://localhost:8080/",
          "height": 204
        },
        "id": "QzPsI4JmAHhc",
        "outputId": "8955cdc2-7e81-42c8-e323-3ebfc8a885c0"
      },
      "source": [
        "# View a small portion of the entire DataFrame with head()\n",
        "jws.head()"
      ],
      "execution_count": null,
      "outputs": [
        {
          "output_type": "execute_result",
          "data": {
            "text/html": [
              "<div>\n",
              "<style scoped>\n",
              "    .dataframe tbody tr th:only-of-type {\n",
              "        vertical-align: middle;\n",
              "    }\n",
              "\n",
              "    .dataframe tbody tr th {\n",
              "        vertical-align: top;\n",
              "    }\n",
              "\n",
              "    .dataframe thead th {\n",
              "        text-align: right;\n",
              "    }\n",
              "</style>\n",
              "<table border=\"1\" class=\"dataframe\">\n",
              "  <thead>\n",
              "    <tr style=\"text-align: right;\">\n",
              "      <th></th>\n",
              "      <th>TRANSMITTER</th>\n",
              "      <th>DETECTEDID</th>\n",
              "      <th>DATETIME</th>\n",
              "      <th>X</th>\n",
              "      <th>Y</th>\n",
              "      <th>D</th>\n",
              "      <th>LAT</th>\n",
              "      <th>LON</th>\n",
              "      <th>n</th>\n",
              "      <th>HPE</th>\n",
              "    </tr>\n",
              "  </thead>\n",
              "  <tbody>\n",
              "    <tr>\n",
              "      <th>0</th>\n",
              "      <td>2020-21</td>\n",
              "      <td>A69-9006-7849</td>\n",
              "      <td>6/20/2020 0:46</td>\n",
              "      <td>5374.69</td>\n",
              "      <td>5292.34</td>\n",
              "      <td>-0.607</td>\n",
              "      <td>34.401724</td>\n",
              "      <td>-119.545133</td>\n",
              "      <td>2</td>\n",
              "      <td>4.7</td>\n",
              "    </tr>\n",
              "    <tr>\n",
              "      <th>1</th>\n",
              "      <td>2020-21</td>\n",
              "      <td>A69-9006-7849</td>\n",
              "      <td>6/20/2020 0:57</td>\n",
              "      <td>5122.30</td>\n",
              "      <td>5560.71</td>\n",
              "      <td>-0.607</td>\n",
              "      <td>34.404144</td>\n",
              "      <td>-119.547878</td>\n",
              "      <td>2</td>\n",
              "      <td>7.1</td>\n",
              "    </tr>\n",
              "    <tr>\n",
              "      <th>2</th>\n",
              "      <td>2020-21</td>\n",
              "      <td>A69-9006-7849</td>\n",
              "      <td>6/20/2020 1:15</td>\n",
              "      <td>4637.29</td>\n",
              "      <td>5997.78</td>\n",
              "      <td>-0.607</td>\n",
              "      <td>34.408084</td>\n",
              "      <td>-119.553153</td>\n",
              "      <td>3</td>\n",
              "      <td>6.8</td>\n",
              "    </tr>\n",
              "    <tr>\n",
              "      <th>3</th>\n",
              "      <td>2020-21</td>\n",
              "      <td>A69-9006-7849</td>\n",
              "      <td>6/20/2020 4:31</td>\n",
              "      <td>5010.76</td>\n",
              "      <td>5676.12</td>\n",
              "      <td>-0.607</td>\n",
              "      <td>34.405184</td>\n",
              "      <td>-119.549091</td>\n",
              "      <td>1</td>\n",
              "      <td>11.6</td>\n",
              "    </tr>\n",
              "    <tr>\n",
              "      <th>4</th>\n",
              "      <td>2020-21</td>\n",
              "      <td>A69-9006-7849</td>\n",
              "      <td>6/20/2020 4:36</td>\n",
              "      <td>4854.59</td>\n",
              "      <td>5796.55</td>\n",
              "      <td>-0.607</td>\n",
              "      <td>34.406270</td>\n",
              "      <td>-119.550790</td>\n",
              "      <td>1</td>\n",
              "      <td>4.6</td>\n",
              "    </tr>\n",
              "  </tbody>\n",
              "</table>\n",
              "</div>"
            ],
            "text/plain": [
              "  TRANSMITTER     DETECTEDID        DATETIME  ...         LON  n   HPE\n",
              "0     2020-21  A69-9006-7849  6/20/2020 0:46  ... -119.545133  2   4.7\n",
              "1     2020-21  A69-9006-7849  6/20/2020 0:57  ... -119.547878  2   7.1\n",
              "2     2020-21  A69-9006-7849  6/20/2020 1:15  ... -119.553153  3   6.8\n",
              "3     2020-21  A69-9006-7849  6/20/2020 4:31  ... -119.549091  1  11.6\n",
              "4     2020-21  A69-9006-7849  6/20/2020 4:36  ... -119.550790  1   4.6\n",
              "\n",
              "[5 rows x 10 columns]"
            ]
          },
          "metadata": {
            "tags": []
          },
          "execution_count": 43
        }
      ]
    },
    {
      "cell_type": "markdown",
      "metadata": {
        "id": "c6v3I--Z-oRc"
      },
      "source": [
        "Notice the format of the left-most column. \n",
        "This is how the the data is indexed, each row is assigned an integer, starting at $0$"
      ]
    },
    {
      "cell_type": "code",
      "metadata": {
        "colab": {
          "base_uri": "https://localhost:8080/",
          "height": 142
        },
        "id": "d0hbDUiiAjx1",
        "outputId": "4c695195-9367-419b-92f6-be9b7a53e3a5"
      },
      "source": [
        "# Use indexing to print the first 5 rows (expect the same output as above)\n",
        "jws[2:5]"
      ],
      "execution_count": null,
      "outputs": [
        {
          "output_type": "execute_result",
          "data": {
            "text/html": [
              "<div>\n",
              "<style scoped>\n",
              "    .dataframe tbody tr th:only-of-type {\n",
              "        vertical-align: middle;\n",
              "    }\n",
              "\n",
              "    .dataframe tbody tr th {\n",
              "        vertical-align: top;\n",
              "    }\n",
              "\n",
              "    .dataframe thead th {\n",
              "        text-align: right;\n",
              "    }\n",
              "</style>\n",
              "<table border=\"1\" class=\"dataframe\">\n",
              "  <thead>\n",
              "    <tr style=\"text-align: right;\">\n",
              "      <th></th>\n",
              "      <th>TRANSMITTER</th>\n",
              "      <th>DETECTEDID</th>\n",
              "      <th>DATETIME</th>\n",
              "      <th>X</th>\n",
              "      <th>Y</th>\n",
              "      <th>D</th>\n",
              "      <th>LAT</th>\n",
              "      <th>LON</th>\n",
              "      <th>n</th>\n",
              "      <th>HPE</th>\n",
              "    </tr>\n",
              "  </thead>\n",
              "  <tbody>\n",
              "    <tr>\n",
              "      <th>2</th>\n",
              "      <td>2020-21</td>\n",
              "      <td>A69-9006-7849</td>\n",
              "      <td>6/20/2020 1:15</td>\n",
              "      <td>4637.29</td>\n",
              "      <td>5997.78</td>\n",
              "      <td>-0.607</td>\n",
              "      <td>34.408084</td>\n",
              "      <td>-119.553153</td>\n",
              "      <td>3</td>\n",
              "      <td>6.8</td>\n",
              "    </tr>\n",
              "    <tr>\n",
              "      <th>3</th>\n",
              "      <td>2020-21</td>\n",
              "      <td>A69-9006-7849</td>\n",
              "      <td>6/20/2020 4:31</td>\n",
              "      <td>5010.76</td>\n",
              "      <td>5676.12</td>\n",
              "      <td>-0.607</td>\n",
              "      <td>34.405184</td>\n",
              "      <td>-119.549091</td>\n",
              "      <td>1</td>\n",
              "      <td>11.6</td>\n",
              "    </tr>\n",
              "    <tr>\n",
              "      <th>4</th>\n",
              "      <td>2020-21</td>\n",
              "      <td>A69-9006-7849</td>\n",
              "      <td>6/20/2020 4:36</td>\n",
              "      <td>4854.59</td>\n",
              "      <td>5796.55</td>\n",
              "      <td>-0.607</td>\n",
              "      <td>34.406270</td>\n",
              "      <td>-119.550790</td>\n",
              "      <td>1</td>\n",
              "      <td>4.6</td>\n",
              "    </tr>\n",
              "  </tbody>\n",
              "</table>\n",
              "</div>"
            ],
            "text/plain": [
              "  TRANSMITTER     DETECTEDID        DATETIME  ...         LON  n   HPE\n",
              "2     2020-21  A69-9006-7849  6/20/2020 1:15  ... -119.553153  3   6.8\n",
              "3     2020-21  A69-9006-7849  6/20/2020 4:31  ... -119.549091  1  11.6\n",
              "4     2020-21  A69-9006-7849  6/20/2020 4:36  ... -119.550790  1   4.6\n",
              "\n",
              "[3 rows x 10 columns]"
            ]
          },
          "metadata": {
            "tags": []
          },
          "execution_count": 45
        }
      ]
    },
    {
      "cell_type": "markdown",
      "metadata": {
        "id": "VBd4tEkUFaZA"
      },
      "source": [
        "### Activity 4.2\n",
        "\n",
        "### Use indexing to show the 21st row\n",
        "\n",
        "Hint: Use the format ```df[row-1:row]```"
      ]
    },
    {
      "cell_type": "code",
      "metadata": {
        "colab": {
          "base_uri": "https://localhost:8080/",
          "height": 80
        },
        "id": "Ugn5yWdnFrF9",
        "outputId": "f393165e-ea30-4b03-d47e-5a271dc2e400"
      },
      "source": [
        "# 4.2\n",
        "# Write code in this cell\n",
        "\n",
        "jws[20:21]"
      ],
      "execution_count": null,
      "outputs": [
        {
          "output_type": "execute_result",
          "data": {
            "text/html": [
              "<div>\n",
              "<style scoped>\n",
              "    .dataframe tbody tr th:only-of-type {\n",
              "        vertical-align: middle;\n",
              "    }\n",
              "\n",
              "    .dataframe tbody tr th {\n",
              "        vertical-align: top;\n",
              "    }\n",
              "\n",
              "    .dataframe thead th {\n",
              "        text-align: right;\n",
              "    }\n",
              "</style>\n",
              "<table border=\"1\" class=\"dataframe\">\n",
              "  <thead>\n",
              "    <tr style=\"text-align: right;\">\n",
              "      <th></th>\n",
              "      <th>TRANSMITTER</th>\n",
              "      <th>DETECTEDID</th>\n",
              "      <th>DATETIME</th>\n",
              "      <th>X</th>\n",
              "      <th>Y</th>\n",
              "      <th>D</th>\n",
              "      <th>LAT</th>\n",
              "      <th>LON</th>\n",
              "      <th>n</th>\n",
              "      <th>HPE</th>\n",
              "    </tr>\n",
              "  </thead>\n",
              "  <tbody>\n",
              "    <tr>\n",
              "      <th>20</th>\n",
              "      <td>2020-20</td>\n",
              "      <td>A69-9006-7853</td>\n",
              "      <td>6/20/2020 7:22</td>\n",
              "      <td>4770.51</td>\n",
              "      <td>5549.47</td>\n",
              "      <td>-0.607</td>\n",
              "      <td>34.404042</td>\n",
              "      <td>-119.551704</td>\n",
              "      <td>4</td>\n",
              "      <td>2.6</td>\n",
              "    </tr>\n",
              "  </tbody>\n",
              "</table>\n",
              "</div>"
            ],
            "text/plain": [
              "   TRANSMITTER     DETECTEDID        DATETIME  ...         LON  n  HPE\n",
              "20     2020-20  A69-9006-7853  6/20/2020 7:22  ... -119.551704  4  2.6\n",
              "\n",
              "[1 rows x 10 columns]"
            ]
          },
          "metadata": {
            "tags": []
          },
          "execution_count": 49
        }
      ]
    },
    {
      "cell_type": "markdown",
      "metadata": {
        "id": "R_9Zw6XFG4Ny"
      },
      "source": [
        "### Operations on the DataFrame"
      ]
    },
    {
      "cell_type": "markdown",
      "metadata": {
        "id": "xZGn0O63HK1N"
      },
      "source": [
        "### value_counts()\n",
        "Use the value_counts() method on the \"TRANSMITTER\" column to see how many times each shark was observed."
      ]
    },
    {
      "cell_type": "code",
      "metadata": {
        "colab": {
          "base_uri": "https://localhost:8080/"
        },
        "id": "jjG_Br4_DDge",
        "outputId": "78c37993-f464-4617-bae9-fa5148ea4b1a"
      },
      "source": [
        "# Count number of times each shark was observed   \n",
        "tag_counts = jws[\"TRANSMITTER\"].value_counts()\n",
        "\n",
        "tag_counts"
      ],
      "execution_count": null,
      "outputs": [
        {
          "output_type": "execute_result",
          "data": {
            "text/plain": [
              "2020-20    1078\n",
              "2020-21     963\n",
              "2020-19     424\n",
              "2020-32       3\n",
              "2020-31       1\n",
              "Name: TRANSMITTER, dtype: int64"
            ]
          },
          "metadata": {
            "tags": []
          },
          "execution_count": 50
        }
      ]
    },
    {
      "cell_type": "markdown",
      "metadata": {
        "id": "XCk67k30H2Zp"
      },
      "source": [
        "### Plot a Histogram \n",
        "\n",
        "DataFrames (and a few other related object types) have built-in plotting methods. \n",
        "\n",
        "We can make a bar plot of the count data with a call to plot.bar()"
      ]
    },
    {
      "cell_type": "code",
      "metadata": {
        "colab": {
          "base_uri": "https://localhost:8080/",
          "height": 347
        },
        "id": "kPncatauHdP4",
        "outputId": "9e3ce32d-653e-46bd-fd5f-bde6683f2acf"
      },
      "source": [
        "# Call plot.bar() and set it to a variable ax_1\n",
        "ax_1 = tag_counts.plot.bar()\n",
        "\n",
        "ax_1.set_xlabel(\"Shark ID\", labelpad=20, weight='bold', size=12)\n",
        "ax_1.set_ylabel(\"Observations\", labelpad=20, weight='bold', size=12)"
      ],
      "execution_count": null,
      "outputs": [
        {
          "output_type": "execute_result",
          "data": {
            "text/plain": [
              "Text(0, 0.5, 'Observations')"
            ]
          },
          "metadata": {
            "tags": []
          },
          "execution_count": 52
        },
        {
          "output_type": "display_data",
          "data": {
            "image/png": "[encoded data removed]",
            "text/plain": [
              "<Figure size 432x288 with 1 Axes>"
            ]
          },
          "metadata": {
            "tags": [],
            "needs_background": "light"
          }
        }
      ]
    },
    {
      "cell_type": "markdown",
      "metadata": {
        "id": "oVauy-C7MenY"
      },
      "source": [
        "## Use the describe() method to get summary statistics\n",
        "\n",
        "The describe() method will operate on numerical columns of our shark dataframe. \n",
        "\n",
        "The output contains things like count, mean, max, etc..\n",
        "\n",
        "This will be more useful once we do our own calculations (e.g., speed) using the data. "
      ]
    },
    {
      "cell_type": "code",
      "metadata": {
        "colab": {
          "base_uri": "https://localhost:8080/",
          "height": 297
        },
        "id": "QqceRxrcMiJp",
        "outputId": "3c34ad8a-3abb-42c2-a8c4-457816684a6f"
      },
      "source": [
        "jws.describe()"
      ],
      "execution_count": null,
      "outputs": [
        {
          "output_type": "execute_result",
          "data": {
            "text/html": [
              "<div>\n",
              "<style scoped>\n",
              "    .dataframe tbody tr th:only-of-type {\n",
              "        vertical-align: middle;\n",
              "    }\n",
              "\n",
              "    .dataframe tbody tr th {\n",
              "        vertical-align: top;\n",
              "    }\n",
              "\n",
              "    .dataframe thead th {\n",
              "        text-align: right;\n",
              "    }\n",
              "</style>\n",
              "<table border=\"1\" class=\"dataframe\">\n",
              "  <thead>\n",
              "    <tr style=\"text-align: right;\">\n",
              "      <th></th>\n",
              "      <th>X</th>\n",
              "      <th>Y</th>\n",
              "      <th>D</th>\n",
              "      <th>LAT</th>\n",
              "      <th>LON</th>\n",
              "      <th>n</th>\n",
              "      <th>HPE</th>\n",
              "    </tr>\n",
              "  </thead>\n",
              "  <tbody>\n",
              "    <tr>\n",
              "      <th>count</th>\n",
              "      <td>2469.000000</td>\n",
              "      <td>2469.000000</td>\n",
              "      <td>2.469000e+03</td>\n",
              "      <td>2469.000000</td>\n",
              "      <td>2469.000000</td>\n",
              "      <td>2469.000000</td>\n",
              "      <td>2469.000000</td>\n",
              "    </tr>\n",
              "    <tr>\n",
              "      <th>mean</th>\n",
              "      <td>4836.241790</td>\n",
              "      <td>5336.075144</td>\n",
              "      <td>-6.070000e-01</td>\n",
              "      <td>34.402119</td>\n",
              "      <td>-119.550989</td>\n",
              "      <td>2.612799</td>\n",
              "      <td>4.453625</td>\n",
              "    </tr>\n",
              "    <tr>\n",
              "      <th>std</th>\n",
              "      <td>448.454473</td>\n",
              "      <td>449.845658</td>\n",
              "      <td>1.443582e-14</td>\n",
              "      <td>0.004055</td>\n",
              "      <td>0.004878</td>\n",
              "      <td>2.465469</td>\n",
              "      <td>27.105129</td>\n",
              "    </tr>\n",
              "    <tr>\n",
              "      <th>min</th>\n",
              "      <td>3282.690000</td>\n",
              "      <td>4317.910000</td>\n",
              "      <td>-6.070000e-01</td>\n",
              "      <td>34.392939</td>\n",
              "      <td>-119.567887</td>\n",
              "      <td>1.000000</td>\n",
              "      <td>2.400000</td>\n",
              "    </tr>\n",
              "    <tr>\n",
              "      <th>25%</th>\n",
              "      <td>4591.840000</td>\n",
              "      <td>4982.390000</td>\n",
              "      <td>-6.070000e-01</td>\n",
              "      <td>34.398930</td>\n",
              "      <td>-119.553647</td>\n",
              "      <td>1.000000</td>\n",
              "      <td>2.800000</td>\n",
              "    </tr>\n",
              "    <tr>\n",
              "      <th>50%</th>\n",
              "      <td>4930.240000</td>\n",
              "      <td>5240.970000</td>\n",
              "      <td>-6.070000e-01</td>\n",
              "      <td>34.401261</td>\n",
              "      <td>-119.549967</td>\n",
              "      <td>1.000000</td>\n",
              "      <td>3.100000</td>\n",
              "    </tr>\n",
              "    <tr>\n",
              "      <th>75%</th>\n",
              "      <td>5124.050000</td>\n",
              "      <td>5610.660000</td>\n",
              "      <td>-6.070000e-01</td>\n",
              "      <td>34.404594</td>\n",
              "      <td>-119.547859</td>\n",
              "      <td>4.000000</td>\n",
              "      <td>3.900000</td>\n",
              "    </tr>\n",
              "    <tr>\n",
              "      <th>max</th>\n",
              "      <td>6572.250000</td>\n",
              "      <td>6670.660000</td>\n",
              "      <td>-6.070000e-01</td>\n",
              "      <td>34.414149</td>\n",
              "      <td>-119.532110</td>\n",
              "      <td>17.000000</td>\n",
              "      <td>1331.700000</td>\n",
              "    </tr>\n",
              "  </tbody>\n",
              "</table>\n",
              "</div>"
            ],
            "text/plain": [
              "                 X            Y  ...            n          HPE\n",
              "count  2469.000000  2469.000000  ...  2469.000000  2469.000000\n",
              "mean   4836.241790  5336.075144  ...     2.612799     4.453625\n",
              "std     448.454473   449.845658  ...     2.465469    27.105129\n",
              "min    3282.690000  4317.910000  ...     1.000000     2.400000\n",
              "25%    4591.840000  4982.390000  ...     1.000000     2.800000\n",
              "50%    4930.240000  5240.970000  ...     1.000000     3.100000\n",
              "75%    5124.050000  5610.660000  ...     4.000000     3.900000\n",
              "max    6572.250000  6670.660000  ...    17.000000  1331.700000\n",
              "\n",
              "[8 rows x 7 columns]"
            ]
          },
          "metadata": {
            "tags": []
          },
          "execution_count": 53
        }
      ]
    },
    {
      "cell_type": "markdown",
      "metadata": {
        "id": "IjN0Af00Kges"
      },
      "source": [
        "### Time Series Plot\n",
        "\n",
        "Here you'll manipulate the data frame to extract all the data \n",
        "for an individual shark and plot it using the pyplot (plt) library. "
      ]
    },
    {
      "cell_type": "code",
      "metadata": {
        "id": "f6gmXYb5Kr1Z"
      },
      "source": [
        "# First, import pyplot\n",
        "import matplotlib.pyplot as plt"
      ],
      "execution_count": null,
      "outputs": []
    },
    {
      "cell_type": "code",
      "metadata": {
        "colab": {
          "base_uri": "https://localhost:8080/",
          "height": 295
        },
        "id": "mvusDARrOfpQ",
        "outputId": "fcf4718d-9cbc-458f-9a1a-56bf9a6c220e"
      },
      "source": [
        "x  = [1, 2, 3, 4, 5, 6, 7, 8, 9]\n",
        "y1 = [1, 3, 5, 3, 1, 3, 5, 3, 1]\n",
        "y2 = [2, 4, 6, 4, 2, 4, 6, 4, 2]\n",
        "\n",
        "plt.plot(x, y1, label=\"line L\")\n",
        "plt.plot(x, y2, label=\"line H\")\n",
        "plt.plot()\n",
        "\n",
        "plt.xlabel(\"x axis\")\n",
        "plt.ylabel(\"y axis\")\n",
        "plt.title(\"Line Graph Example\")\n",
        "plt.legend()\n",
        "plt.show()"
      ],
      "execution_count": null,
      "outputs": [
        {
          "output_type": "display_data",
          "data": {
            "image/png": "[encoded data removed]",
            "text/plain": [
              "<Figure size 432x288 with 1 Axes>"
            ]
          },
          "metadata": {
            "tags": [],
            "needs_background": "light"
          }
        }
      ]
    },
    {
      "cell_type": "code",
      "metadata": {
        "colab": {
          "base_uri": "https://localhost:8080/",
          "height": 279
        },
        "id": "6Wo8HD0VKaKF",
        "outputId": "b0b2a773-fdd3-4483-9f34-b7d54521db01"
      },
      "source": [
        "# Use logical indexing to extract all data for a specific animal (coded by TRANSMITTER field)\n",
        "shark20 = jws[jws.TRANSMITTER == '2020-20']\n",
        "\n",
        "shark20.head()\n",
        "\n",
        "# Plot the x-y position (its trajectory) as a blue line\n",
        "plt.plot(shark20.X, shark20.Y, 'b-')\n",
        "\n",
        "plt.xlabel('X-position (m)')\n",
        "plt.ylabel('Y-position (m)')\n",
        "plt.show()"
      ],
      "execution_count": null,
      "outputs": [
        {
          "output_type": "display_data",
          "data": {
            "image/png": "[encoded data removed]",
            "text/plain": [
              "<Figure size 432x288 with 1 Axes>"
            ]
          },
          "metadata": {
            "tags": [],
            "needs_background": "light"
          }
        }
      ]
    },
    {
      "cell_type": "markdown",
      "metadata": {
        "id": "XMWAXxmaLmGL"
      },
      "source": [
        "### Activity 4.3\n",
        "\n",
        "### Create a plot of the x-y position for shark 19"
      ]
    },
    {
      "cell_type": "code",
      "metadata": {
        "colab": {
          "base_uri": "https://localhost:8080/",
          "height": 279
        },
        "id": "BAM4R28DLI97",
        "outputId": "a1cfe10f-6fae-48cf-ad77-982e58e60620"
      },
      "source": [
        "# 4.3\n",
        "# Write code in this cell\n",
        "\n",
        "# Use logical indexing to extract all data for a specific animal (coded by TRANSMITTER field)\n",
        "shark19 = jws[jws.TRANSMITTER == '2020-19']\n",
        "\n",
        "# Plot the x-y position (its trajectory) as a blue line\n",
        "plt.plot(shark19.X, shark19.Y, 'r-')\n",
        "\n",
        "plt.xlabel('X-position (m)')\n",
        "plt.ylabel('Y-position (m)')\n",
        "plt.show()"
      ],
      "execution_count": null,
      "outputs": [
        {
          "output_type": "display_data",
          "data": {
            "image/png": "[encoded data removed]",
            "text/plain": [
              "<Figure size 432x288 with 1 Axes>"
            ]
          },
          "metadata": {
            "tags": [],
            "needs_background": "light"
          }
        }
      ]
    },
    {
      "cell_type": "code",
      "metadata": {
        "id": "32J-KA8yhtT2"
      },
      "source": [],
      "execution_count": null,
      "outputs": []
    }
  ]
}