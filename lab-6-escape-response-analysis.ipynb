{
  "nbformat": 4,
  "nbformat_minor": 0,
  "metadata": {
    "colab": {
      "provenance": [],
      "toc_visible": true
    },
    "kernelspec": {
      "name": "python3",
      "display_name": "Python 3"
    },
    "language_info": {
      "name": "python"
    }
  },
  "cells": [
    {
      "cell_type": "markdown",
      "source": [
        "# Save a copy in your Google Drive with your initials appended to the filename\n",
        "Do this first, then proceed."
      ],
      "metadata": {
        "id": "e0MSgSN99Aie"
      }
    },
    {
      "cell_type": "markdown",
      "source": [
        "# Lab 6: Escape response kinematics\n",
        "\n",
        "In this lab you will be working with fish escape response data collected from videos of experiments conducted by Prof. Alberto Soto and colleagues Jenn Bullard and Dr. Katie Whitlow at Friday Harbor Labs (part of University of Washington). The fish used in this experiment is the [Pacific staghorn sculpin](https://mexican-fish.com/pacific-staghorn-sculpin/). To induce a fast-start escape response, we dropped an object into the experimental tank. This produces an acoustic and mechanical stimulus to the escape response circuit.  \n",
        "\n",
        "To gather these data, we tracked the position of the sculpin's mouth and center-of-mass. The data sets contain the following variables: \n",
        "\n",
        "`time, xMouth, yMouth, xCOM, yCOM`  "
      ],
      "metadata": {
        "id": "OYihe2C39Vbu"
      }
    },
    {
      "cell_type": "markdown",
      "source": [
        "## Useful parameters and notes\n",
        "\n",
        "* The units of position are given in centimeters, time is in seconds.\n",
        "* The videos were recorded at 500fps, so the $\\Delta t$ between consecutive frames is 0.002 seconds (2 ms). \n",
        "* The timeseries data begin a couple of frames before the start of the escape response.\n",
        "* At the top of the CSV file, there are 3 relevant video parameters: **start stimulus, start tracking, start escape**, given as frame numbers. You will use this information to caluclate the response latency, which is the time between the stimulus start and the start of the escape response. \n",
        "\n",
        "* Conversion factor with units cm/pixels:\n",
        "`cm_px = 4.5285e-2`\n",
        "\n",
        "* Video dimensions in pixels:\n",
        "  * `vid_width = 1920`\n",
        "  *`vid_height = 1080`\n",
        "\n",
        "* The origin for these data is set to center of the image frame. We'll want to redefine a new origin to be the bottom left corner of the image. \n",
        "To do this use the following equations: \n",
        "  * `x_new = cm_px*(1920/2) + x`\n",
        "  * `y_new =cm_px*(1080/2) + y`\n",
        "\n",
        "* Position where the stimulus hits the water (cm), relative to the new origin:\n",
        "  * `stimX = cm_px*(1920/2) + 29.680`\n",
        "  * `stimY = cm_px*(1080/2) + (-15.9750)`\n"
      ],
      "metadata": {
        "id": "3gVbTl5Zd67A"
      }
    },
    {
      "cell_type": "markdown",
      "source": [
        "# Lab 6: Tasks\n",
        "In this lab you will work with 2 different escape response sequences, they may be found in your Drive folder. \n",
        "\n",
        "For each sequence:\n",
        "  * Determine the total duration in **sec** of each sequence\n",
        "  * Calculate the response latency, units should be reported in **ms**\n",
        "  * Plot the trajectory of the fish's center-of-mass, make sure to denote the initial position of the fish on the figure\n",
        "  * Calculate the distance in **cm** between the stimulus position and the initial position of the fish.\n",
        "  * Compute and plot the following derived kinematic variables with appropriate units \n",
        "    * Heading of fish, \n",
        "$\\theta (t)$,\n",
        "computed using the vector from (xCOM, yCOM) to (xMouth, yMouth)\n",
        "    * Velocity, \n",
        "$\\dot x(t) = v(t)$\n",
        "    * Acceleration, \n",
        "$\\dot v(t) = a(t)$\n",
        "    * Rotational velocity, \n",
        "$\\dot \\theta(t)$\n",
        "  * Use the heading and rotational velocity data to calculate the timing (**ms** after escape begins) and duration (in **ms**) of Stage 1, Stage 2, and Stage 3 of the escape response. \n",
        "  * Determine whether the escape was toward the stimulus or away from the stimulus\n",
        "\n",
        "**Note:** Derivatives should be computed using the finite difference method provided"
      ],
      "metadata": {
        "id": "LoquWzmILF8O"
      }
    },
    {
      "cell_type": "markdown",
      "source": [
        "## What to turn in\n",
        "In contrast to previous labs, rather than submitting a pdf of your Google Colab notebook, you’ll compile the results of your lab work (the tasks listed above) into a separate file. "
      ],
      "metadata": {
        "id": "bQWvchugQGgs"
      }
    },
    {
      "cell_type": "markdown",
      "source": [
        "# Load the Dependencies and Data"
      ],
      "metadata": {
        "id": "FRGEfogfE03f"
      }
    },
    {
      "cell_type": "code",
      "execution_count": null,
      "metadata": {
        "id": "LnEcEVv382zM"
      },
      "outputs": [],
      "source": [
        "import scipy.io\n",
        "import numpy as np\n",
        "from matplotlib import pyplot as plt\n",
        "import pandas as pd\n",
        "\n",
        "%matplotlib inline\n",
        "\n",
        "# Scipy signal for smoothing noisy data\n",
        "from scipy import signal\n",
        "\n",
        "# Plotly for interactive plots\n",
        "import plotly.express as px\n",
        "from plotly.subplots import make_subplots\n",
        "import plotly.graph_objects as go"
      ]
    },
    {
      "cell_type": "markdown",
      "source": [
        "### Sample code to load the timeseries and video parameter data separately "
      ],
      "metadata": {
        "id": "m1YABLIoIMK-"
      }
    },
    {
      "cell_type": "code",
      "source": [
        "# sample data URL\n",
        "sample_url = \"https://raw.githubusercontent.com/adsoto/Shark-Analysis/main/180815-expF-trial2.csv\""
      ],
      "metadata": {
        "id": "p_0iloPeJ5e9"
      },
      "execution_count": null,
      "outputs": []
    },
    {
      "cell_type": "code",
      "source": [
        "# Read timeseries data \n",
        "escape_1 = pd.read_csv(sample_url, skiprows=3)\n",
        "escape_1.head()"
      ],
      "metadata": {
        "colab": {
          "base_uri": "https://localhost:8080/",
          "height": 206
        },
        "id": "IEfpnIsGE-13",
        "outputId": "8107601e-38a3-4d45-b570-5b5b280fa26f"
      },
      "execution_count": null,
      "outputs": [
        {
          "output_type": "execute_result",
          "data": {
            "text/plain": [
              "    time     xMouth    yMouth      xCOM      yCOM\n",
              "0  1.294  24.740876 -3.865762  20.16185 -4.579476\n",
              "1  1.296  24.649917 -3.956721  20.16185 -4.579476\n",
              "2  1.298  24.695396 -3.729323  20.16185 -4.579476\n",
              "3  1.300  24.740876 -3.774803  20.16185 -4.579476\n",
              "4  1.302  24.695396 -3.956721  20.16185 -4.498423"
            ],
            "text/html": [
              "\n",
              "  <div id=\"df-9e234f02-68b6-4800-b62b-ef79d1e33e45\">\n",
              "    <div class=\"colab-df-container\">\n",
              "      <div>\n",
              "<style scoped>\n",
              "    .dataframe tbody tr th:only-of-type {\n",
              "        vertical-align: middle;\n",
              "    }\n",
              "\n",
              "    .dataframe tbody tr th {\n",
              "        vertical-align: top;\n",
              "    }\n",
              "\n",
              "    .dataframe thead th {\n",
              "        text-align: right;\n",
              "    }\n",
              "</style>\n",
              "<table border=\"1\" class=\"dataframe\">\n",
              "  <thead>\n",
              "    <tr style=\"text-align: right;\">\n",
              "      <th></th>\n",
              "      <th>time</th>\n",
              "      <th>xMouth</th>\n",
              "      <th>yMouth</th>\n",
              "      <th>xCOM</th>\n",
              "      <th>yCOM</th>\n",
              "    </tr>\n",
              "  </thead>\n",
              "  <tbody>\n",
              "    <tr>\n",
              "      <th>0</th>\n",
              "      <td>1.294</td>\n",
              "      <td>24.740876</td>\n",
              "      <td>-3.865762</td>\n",
              "      <td>20.16185</td>\n",
              "      <td>-4.579476</td>\n",
              "    </tr>\n",
              "    <tr>\n",
              "      <th>1</th>\n",
              "      <td>1.296</td>\n",
              "      <td>24.649917</td>\n",
              "      <td>-3.956721</td>\n",
              "      <td>20.16185</td>\n",
              "      <td>-4.579476</td>\n",
              "    </tr>\n",
              "    <tr>\n",
              "      <th>2</th>\n",
              "      <td>1.298</td>\n",
              "      <td>24.695396</td>\n",
              "      <td>-3.729323</td>\n",
              "      <td>20.16185</td>\n",
              "      <td>-4.579476</td>\n",
              "    </tr>\n",
              "    <tr>\n",
              "      <th>3</th>\n",
              "      <td>1.300</td>\n",
              "      <td>24.740876</td>\n",
              "      <td>-3.774803</td>\n",
              "      <td>20.16185</td>\n",
              "      <td>-4.579476</td>\n",
              "    </tr>\n",
              "    <tr>\n",
              "      <th>4</th>\n",
              "      <td>1.302</td>\n",
              "      <td>24.695396</td>\n",
              "      <td>-3.956721</td>\n",
              "      <td>20.16185</td>\n",
              "      <td>-4.498423</td>\n",
              "    </tr>\n",
              "  </tbody>\n",
              "</table>\n",
              "</div>\n",
              "      <button class=\"colab-df-convert\" onclick=\"convertToInteractive('df-9e234f02-68b6-4800-b62b-ef79d1e33e45')\"\n",
              "              title=\"Convert this dataframe to an interactive table.\"\n",
              "              style=\"display:none;\">\n",
              "        \n",
              "  <svg xmlns=\"http://www.w3.org/2000/svg\" height=\"24px\"viewBox=\"0 0 24 24\"\n",
              "       width=\"24px\">\n",
              "    <path d=\"M0 0h24v24H0V0z\" fill=\"none\"/>\n",
              "    <path d=\"M18.56 5.44l.94 2.06.94-2.06 2.06-.94-2.06-.94-.94-2.06-.94 2.06-2.06.94zm-11 1L8.5 8.5l.94-2.06 2.06-.94-2.06-.94L8.5 2.5l-.94 2.06-2.06.94zm10 10l.94 2.06.94-2.06 2.06-.94-2.06-.94-.94-2.06-.94 2.06-2.06.94z\"/><path d=\"M17.41 7.96l-1.37-1.37c-.4-.4-.92-.59-1.43-.59-.52 0-1.04.2-1.43.59L10.3 9.45l-7.72 7.72c-.78.78-.78 2.05 0 2.83L4 21.41c.39.39.9.59 1.41.59.51 0 1.02-.2 1.41-.59l7.78-7.78 2.81-2.81c.8-.78.8-2.07 0-2.86zM5.41 20L4 18.59l7.72-7.72 1.47 1.35L5.41 20z\"/>\n",
              "  </svg>\n",
              "      </button>\n",
              "      \n",
              "  <style>\n",
              "    .colab-df-container {\n",
              "      display:flex;\n",
              "      flex-wrap:wrap;\n",
              "      gap: 12px;\n",
              "    }\n",
              "\n",
              "    .colab-df-convert {\n",
              "      background-color: #E8F0FE;\n",
              "      border: none;\n",
              "      border-radius: 50%;\n",
              "      cursor: pointer;\n",
              "      display: none;\n",
              "      fill: #1967D2;\n",
              "      height: 32px;\n",
              "      padding: 0 0 0 0;\n",
              "      width: 32px;\n",
              "    }\n",
              "\n",
              "    .colab-df-convert:hover {\n",
              "      background-color: #E2EBFA;\n",
              "      box-shadow: 0px 1px 2px rgba(60, 64, 67, 0.3), 0px 1px 3px 1px rgba(60, 64, 67, 0.15);\n",
              "      fill: #174EA6;\n",
              "    }\n",
              "\n",
              "    [theme=dark] .colab-df-convert {\n",
              "      background-color: #3B4455;\n",
              "      fill: #D2E3FC;\n",
              "    }\n",
              "\n",
              "    [theme=dark] .colab-df-convert:hover {\n",
              "      background-color: #434B5C;\n",
              "      box-shadow: 0px 1px 3px 1px rgba(0, 0, 0, 0.15);\n",
              "      filter: drop-shadow(0px 1px 2px rgba(0, 0, 0, 0.3));\n",
              "      fill: #FFFFFF;\n",
              "    }\n",
              "  </style>\n",
              "\n",
              "      <script>\n",
              "        const buttonEl =\n",
              "          document.querySelector('#df-9e234f02-68b6-4800-b62b-ef79d1e33e45 button.colab-df-convert');\n",
              "        buttonEl.style.display =\n",
              "          google.colab.kernel.accessAllowed ? 'block' : 'none';\n",
              "\n",
              "        async function convertToInteractive(key) {\n",
              "          const element = document.querySelector('#df-9e234f02-68b6-4800-b62b-ef79d1e33e45');\n",
              "          const dataTable =\n",
              "            await google.colab.kernel.invokeFunction('convertToInteractive',\n",
              "                                                     [key], {});\n",
              "          if (!dataTable) return;\n",
              "\n",
              "          const docLinkHtml = 'Like what you see? Visit the ' +\n",
              "            '<a target=\"_blank\" href=https://colab.research.google.com/notebooks/data_table.ipynb>data table notebook</a>'\n",
              "            + ' to learn more about interactive tables.';\n",
              "          element.innerHTML = '';\n",
              "          dataTable['output_type'] = 'display_data';\n",
              "          await google.colab.output.renderOutput(dataTable, element);\n",
              "          const docLink = document.createElement('div');\n",
              "          docLink.innerHTML = docLinkHtml;\n",
              "          element.appendChild(docLink);\n",
              "        }\n",
              "      </script>\n",
              "    </div>\n",
              "  </div>\n",
              "  "
            ]
          },
          "metadata": {},
          "execution_count": 26
        }
      ]
    },
    {
      "cell_type": "code",
      "source": [
        "# video parameter rows\n",
        "param_rows = [0, 1]\n",
        "\n",
        "# Read video parameters \n",
        "escape_1_params = pd.read_csv(sample_url, \n",
        "                              skiprows = lambda x: x not in param_rows, \n",
        "                              usecols=['start stimulus', 'start tracking', 'start escape'])\n",
        "\n",
        "escape_1_params"
      ],
      "metadata": {
        "colab": {
          "base_uri": "https://localhost:8080/",
          "height": 81
        },
        "id": "Y-_2ny0jFrJZ",
        "outputId": "037279f0-d136-4acf-e118-3e193f900a1e"
      },
      "execution_count": null,
      "outputs": [
        {
          "output_type": "execute_result",
          "data": {
            "text/plain": [
              "   start stimulus  start tracking  start escape\n",
              "0              13             647           648"
            ],
            "text/html": [
              "\n",
              "  <div id=\"df-766c52a3-d579-4b20-b021-d610edd73a11\">\n",
              "    <div class=\"colab-df-container\">\n",
              "      <div>\n",
              "<style scoped>\n",
              "    .dataframe tbody tr th:only-of-type {\n",
              "        vertical-align: middle;\n",
              "    }\n",
              "\n",
              "    .dataframe tbody tr th {\n",
              "        vertical-align: top;\n",
              "    }\n",
              "\n",
              "    .dataframe thead th {\n",
              "        text-align: right;\n",
              "    }\n",
              "</style>\n",
              "<table border=\"1\" class=\"dataframe\">\n",
              "  <thead>\n",
              "    <tr style=\"text-align: right;\">\n",
              "      <th></th>\n",
              "      <th>start stimulus</th>\n",
              "      <th>start tracking</th>\n",
              "      <th>start escape</th>\n",
              "    </tr>\n",
              "  </thead>\n",
              "  <tbody>\n",
              "    <tr>\n",
              "      <th>0</th>\n",
              "      <td>13</td>\n",
              "      <td>647</td>\n",
              "      <td>648</td>\n",
              "    </tr>\n",
              "  </tbody>\n",
              "</table>\n",
              "</div>\n",
              "      <button class=\"colab-df-convert\" onclick=\"convertToInteractive('df-766c52a3-d579-4b20-b021-d610edd73a11')\"\n",
              "              title=\"Convert this dataframe to an interactive table.\"\n",
              "              style=\"display:none;\">\n",
              "        \n",
              "  <svg xmlns=\"http://www.w3.org/2000/svg\" height=\"24px\"viewBox=\"0 0 24 24\"\n",
              "       width=\"24px\">\n",
              "    <path d=\"M0 0h24v24H0V0z\" fill=\"none\"/>\n",
              "    <path d=\"M18.56 5.44l.94 2.06.94-2.06 2.06-.94-2.06-.94-.94-2.06-.94 2.06-2.06.94zm-11 1L8.5 8.5l.94-2.06 2.06-.94-2.06-.94L8.5 2.5l-.94 2.06-2.06.94zm10 10l.94 2.06.94-2.06 2.06-.94-2.06-.94-.94-2.06-.94 2.06-2.06.94z\"/><path d=\"M17.41 7.96l-1.37-1.37c-.4-.4-.92-.59-1.43-.59-.52 0-1.04.2-1.43.59L10.3 9.45l-7.72 7.72c-.78.78-.78 2.05 0 2.83L4 21.41c.39.39.9.59 1.41.59.51 0 1.02-.2 1.41-.59l7.78-7.78 2.81-2.81c.8-.78.8-2.07 0-2.86zM5.41 20L4 18.59l7.72-7.72 1.47 1.35L5.41 20z\"/>\n",
              "  </svg>\n",
              "      </button>\n",
              "      \n",
              "  <style>\n",
              "    .colab-df-container {\n",
              "      display:flex;\n",
              "      flex-wrap:wrap;\n",
              "      gap: 12px;\n",
              "    }\n",
              "\n",
              "    .colab-df-convert {\n",
              "      background-color: #E8F0FE;\n",
              "      border: none;\n",
              "      border-radius: 50%;\n",
              "      cursor: pointer;\n",
              "      display: none;\n",
              "      fill: #1967D2;\n",
              "      height: 32px;\n",
              "      padding: 0 0 0 0;\n",
              "      width: 32px;\n",
              "    }\n",
              "\n",
              "    .colab-df-convert:hover {\n",
              "      background-color: #E2EBFA;\n",
              "      box-shadow: 0px 1px 2px rgba(60, 64, 67, 0.3), 0px 1px 3px 1px rgba(60, 64, 67, 0.15);\n",
              "      fill: #174EA6;\n",
              "    }\n",
              "\n",
              "    [theme=dark] .colab-df-convert {\n",
              "      background-color: #3B4455;\n",
              "      fill: #D2E3FC;\n",
              "    }\n",
              "\n",
              "    [theme=dark] .colab-df-convert:hover {\n",
              "      background-color: #434B5C;\n",
              "      box-shadow: 0px 1px 3px 1px rgba(0, 0, 0, 0.15);\n",
              "      filter: drop-shadow(0px 1px 2px rgba(0, 0, 0, 0.3));\n",
              "      fill: #FFFFFF;\n",
              "    }\n",
              "  </style>\n",
              "\n",
              "      <script>\n",
              "        const buttonEl =\n",
              "          document.querySelector('#df-766c52a3-d579-4b20-b021-d610edd73a11 button.colab-df-convert');\n",
              "        buttonEl.style.display =\n",
              "          google.colab.kernel.accessAllowed ? 'block' : 'none';\n",
              "\n",
              "        async function convertToInteractive(key) {\n",
              "          const element = document.querySelector('#df-766c52a3-d579-4b20-b021-d610edd73a11');\n",
              "          const dataTable =\n",
              "            await google.colab.kernel.invokeFunction('convertToInteractive',\n",
              "                                                     [key], {});\n",
              "          if (!dataTable) return;\n",
              "\n",
              "          const docLinkHtml = 'Like what you see? Visit the ' +\n",
              "            '<a target=\"_blank\" href=https://colab.research.google.com/notebooks/data_table.ipynb>data table notebook</a>'\n",
              "            + ' to learn more about interactive tables.';\n",
              "          element.innerHTML = '';\n",
              "          dataTable['output_type'] = 'display_data';\n",
              "          await google.colab.output.renderOutput(dataTable, element);\n",
              "          const docLink = document.createElement('div');\n",
              "          docLink.innerHTML = docLinkHtml;\n",
              "          element.appendChild(docLink);\n",
              "        }\n",
              "      </script>\n",
              "    </div>\n",
              "  </div>\n",
              "  "
            ]
          },
          "metadata": {},
          "execution_count": 27
        }
      ]
    },
    {
      "cell_type": "markdown",
      "source": [
        "## Numerical differentiation: Finite differences\n",
        "Use the following function to compute the derivative of a 1D array versus time. \n",
        "\n",
        "Thanks to Martin Susanto for writing the function and test case. "
      ],
      "metadata": {
        "id": "Zh8hLbh-Qwuu"
      }
    },
    {
      "cell_type": "code",
      "source": [
        "def finite_difference(t, x):\n",
        "    '''\n",
        "    Computes the derivative using finite difference approximation.\n",
        "\n",
        "    Inputs:\n",
        "        t (1D array)\n",
        "        x (1D array)\n",
        "\n",
        "    Returns:\n",
        "        v (1D array): derivative of x with respect to t\n",
        "    '''\n",
        "\n",
        "    lx = len(x)\n",
        "    v = []\n",
        "\n",
        "    # Check for equal length\n",
        "    if x.shape[0] != t.shape[0]:\n",
        "        raise ValueError('x and t must have the same first dimension')\n",
        "    \n",
        "    if lx == 1:\n",
        "        return 0\n",
        "\n",
        "    # forward difference for 1st element\n",
        "    v += [(x[1]-x[0])/(t[1]-t[0])]\n",
        "\n",
        "    # central difference for central elements\n",
        "    for i in range(lx-1)[1:]:\n",
        "        v += [(x[i-1]-x[i+1])/(t[i-1]-t[i+1])]\n",
        "\n",
        "    # backward difference for last element\n",
        "    v += [(x[-1]-x[-2])/(t[-1]-t[-2])]\n",
        "\n",
        "    return v"
      ],
      "metadata": {
        "id": "FhFlHy84Pn5t"
      },
      "execution_count": null,
      "outputs": []
    },
    {
      "cell_type": "markdown",
      "source": [
        "### Sample call to the finite_difference function\n",
        "\n",
        "The code below computes the derivate of $\\cos(t)$ and plots the result over the exact solution. "
      ],
      "metadata": {
        "id": "LtSv6ey-RmR5"
      }
    },
    {
      "cell_type": "code",
      "source": [
        "    plt.style.use('seaborn-poster')\n",
        "\n",
        "    # step size for time interval\n",
        "    h = 0.01\n",
        "\n",
        "    # define 1D time array\n",
        "    t = np.arange(0, 4*np.pi, h) \n",
        "\n",
        "    # generate a 1D array for cos(t)\n",
        "    x = np.cos(t) \n",
        "\n",
        "    # compute the derivative of x w.r.t. time\n",
        "    dot_x = finite_difference(t, x)\n",
        "\n",
        "    # exact solution; -sin(t)\n",
        "    exact_solution = -np.sin(t)\n",
        "    \n",
        "    # Plot the results\n",
        "    plt.figure(figsize = (12, 8))\n",
        "    plt.plot(t, exact_solution, \\\n",
        "            label = 'Exact solution')\n",
        "    plt.plot(t, dot_x, '--', \\\n",
        "            label = 'Finite difference approximation')\n",
        "    plt.legend()\n",
        "    plt.show(block=True)\n",
        "\n",
        "    # Compute max error between \n",
        "    # numerical derivative and exact solution\n",
        "    max_error = max(abs(exact_solution - dot_x))\n",
        "    print(\"max absolute error:\", max_error)"
      ],
      "metadata": {
        "id": "XESZgzc4Rk5T",
        "colab": {
          "base_uri": "https://localhost:8080/",
          "height": 513
        },
        "outputId": "b533c386-4338-47b1-e5e6-248a3f893ca1"
      },
      "execution_count": null,
      "outputs": [
        {
          "output_type": "display_data",
          "data": {
            "text/plain": [
              "<Figure size 864x576 with 1 Axes>"
            ],
            "image/png": "[encoded data removed]"
          },
          "metadata": {
            "needs_background": "light"
          }
        },
        {
          "output_type": "stream",
          "name": "stdout",
          "text": [
            "max absolute error: 0.004999958333473664\n"
          ]
        }
      ]
    }
  ]
}